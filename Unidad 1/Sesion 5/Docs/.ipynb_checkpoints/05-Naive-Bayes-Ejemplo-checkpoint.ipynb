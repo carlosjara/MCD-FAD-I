{
 "cells": [
  {
   "cell_type": "code",
   "execution_count": null,
   "id": "8e03e8ed",
   "metadata": {},
   "outputs": [],
   "source": [
    "from math import sqrt\n",
    "from math import pi\n",
    "from math import exp\n",
    "from sklearn import naive_bayes, datasets\n",
    "import numpy as np"
   ]
  },
  {
   "cell_type": "markdown",
   "id": "bdefdbcd",
   "metadata": {},
   "source": [
    "Implementamos una función para separar el dataset por valores de las clases"
   ]
  },
  {
   "cell_type": "code",
   "execution_count": null,
   "id": "c79f9853",
   "metadata": {},
   "outputs": [],
   "source": [
    "def separate_by_class(dataset):\n",
    "    separated = dict()\n",
    "    for i in range(len(dataset)):\n",
    "        vector = dataset[i]\n",
    "        class_value = vector[-1]\n",
    "        if (class_value not in separated):\n",
    "            separated[class_value] = list()\n",
    "        separated[class_value].append(vector)\n",
    "    return separated"
   ]
  },
  {
   "cell_type": "markdown",
   "id": "eff0d861",
   "metadata": {},
   "source": [
    "Calculamos la media de una lista de números"
   ]
  },
  {
   "cell_type": "code",
   "execution_count": null,
   "id": "8d3eb2d1",
   "metadata": {},
   "outputs": [],
   "source": [
    "def mean(numbers):\n",
    "    return sum(numbers)/float(len(numbers))"
   ]
  },
  {
   "cell_type": "markdown",
   "id": "0b63f04b",
   "metadata": {},
   "source": [
    "Calculamos la desviación estándar de una lista de números"
   ]
  },
  {
   "cell_type": "code",
   "execution_count": null,
   "id": "0c6662aa",
   "metadata": {},
   "outputs": [],
   "source": [
    "def stdev(numbers):\n",
    "    avg = mean(numbers)\n",
    "    variance = sum([(x-avg)**2 for x in numbers]) / float(len(numbers)-1)\n",
    "    return sqrt(variance)"
   ]
  },
  {
   "cell_type": "markdown",
   "id": "c6ba4817",
   "metadata": {},
   "source": [
    "Se calcula la media, desviación estándar y conteo para cada columna dentro del dataset"
   ]
  },
  {
   "cell_type": "code",
   "execution_count": null,
   "id": "59fd18bc",
   "metadata": {},
   "outputs": [],
   "source": [
    "def summarize_dataset(dataset):\n",
    "    summaries = [(mean(column), stdev(column), len(column)) for column in zip(*dataset)]\n",
    "    del(summaries[-1])\n",
    "    return summaries"
   ]
  },
  {
   "cell_type": "markdown",
   "id": "60e58257",
   "metadata": {},
   "source": [
    "Se divide el dataset por clase y se calculan estadísticos para cada registro"
   ]
  },
  {
   "cell_type": "code",
   "execution_count": null,
   "id": "d8754ba3",
   "metadata": {},
   "outputs": [],
   "source": [
    "def summarize_by_class(dataset):\n",
    "    separated = separate_by_class(dataset)\n",
    "    summaries = dict()\n",
    "    for class_value, rows in separated.items():\n",
    "        summaries[class_value] = summarize_dataset(rows)\n",
    "    return summaries"
   ]
  },
  {
   "cell_type": "markdown",
   "id": "d0b92921",
   "metadata": {},
   "source": [
    "Se calcula la distribución de probabilidad Gaussiana para x"
   ]
  },
  {
   "cell_type": "code",
   "execution_count": null,
   "id": "5a72e997",
   "metadata": {},
   "outputs": [],
   "source": [
    "def calculate_probability(x, mean, stdev):\n",
    "    exponent = exp(-((x-mean)**2 / (2 * stdev**2 )))\n",
    "    return (1 / (sqrt(2 * pi) * stdev)) * exponent"
   ]
  },
  {
   "cell_type": "markdown",
   "id": "5a1d99b3",
   "metadata": {},
   "source": [
    "Se calculan las probabilidades de predecir cada clase para un registro dado"
   ]
  },
  {
   "cell_type": "code",
   "execution_count": null,
   "id": "8b46a6f8",
   "metadata": {},
   "outputs": [],
   "source": [
    "def calculate_class_probabilities(summaries, row):\n",
    "    total_rows = sum([summaries[label][0][2] for label in summaries])\n",
    "    probabilities = dict()\n",
    "    for class_value, class_summaries in summaries.items():\n",
    "        probabilities[class_value] = summaries[class_value][0][2]/float(total_rows)\n",
    "        for i in range(len(class_summaries)):\n",
    "            mean, stdev, _ = class_summaries[i]\n",
    "            probabilities[class_value] *= calculate_probability(row[i], mean, stdev)\n",
    "    return probabilities"
   ]
  },
  {
   "cell_type": "markdown",
   "id": "0f192914",
   "metadata": {},
   "source": [
    "Se define un dataset"
   ]
  },
  {
   "cell_type": "code",
   "execution_count": null,
   "id": "4af56909",
   "metadata": {},
   "outputs": [],
   "source": [
    "dataset = [[3.393533211,2.331273381,0],\n",
    "    [3.110073483,1.781539638,0],\n",
    "    [1.343808831,3.368360954,0],\n",
    "    [3.582294042,4.67917911,0],\n",
    "    [2.280362439,2.866990263,0],\n",
    "    [7.423436942,4.696522875,1],\n",
    "    [5.745051997,3.533989803,1],\n",
    "    [9.172168622,2.511101045,1],\n",
    "    [7.792783481,3.424088941,1],\n",
    "    [7.939820817,0.791637231,1]]"
   ]
  },
  {
   "cell_type": "markdown",
   "id": "5fccaf8a",
   "metadata": {},
   "source": [
    "Se calculan las probabilidades para cada registro"
   ]
  },
  {
   "cell_type": "code",
   "execution_count": null,
   "id": "27fdbe1a",
   "metadata": {},
   "outputs": [],
   "source": [
    "summaries = summarize_by_class(dataset)\n",
    "for row in dataset:\n",
    "    print(calculate_class_probabilities(summaries, row))"
   ]
  },
  {
   "cell_type": "code",
   "execution_count": null,
   "id": "65fa7f1b",
   "metadata": {},
   "outputs": [],
   "source": [
    "def predict(summaries, row):\n",
    "    probabilities = calculate_class_probabilities(summaries, row)\n",
    "    best_label, best_prob = None, -1\n",
    "    for class_value, probability in probabilities.items():\n",
    "        if best_label is None or probability > best_prob:\n",
    "            best_prob = probability\n",
    "            best_label = class_value\n",
    "    return best_label"
   ]
  },
  {
   "cell_type": "code",
   "execution_count": null,
   "id": "0668d4e0",
   "metadata": {},
   "outputs": [],
   "source": [
    "summaries = summarize_by_class(dataset)\n",
    "for row in dataset:\n",
    "    print(predict(summaries, row))"
   ]
  },
  {
   "cell_type": "markdown",
   "id": "e1156bee",
   "metadata": {},
   "source": [
    "Vamos a trabajar con el dataset de cáncer de seno"
   ]
  },
  {
   "cell_type": "code",
   "execution_count": null,
   "id": "3880e9c6",
   "metadata": {},
   "outputs": [],
   "source": [
    "cancer = datasets.load_breast_cancer()\n",
    "X = cancer.data\n",
    "y = cancer.target\n",
    "data = np.concatenate((X, np.expand_dims(y, axis=1)), axis = 1)\n",
    "data[0:5]"
   ]
  },
  {
   "cell_type": "markdown",
   "id": "7314464f",
   "metadata": {},
   "source": [
    "Vamos a utilizar un clasificador Naïve Bayes que supone una distribución Gaussiana de los datos numéricos, ya que los valores de las variables independientes son continuos."
   ]
  },
  {
   "cell_type": "code",
   "execution_count": null,
   "id": "76dcf37f",
   "metadata": {},
   "outputs": [],
   "source": [
    "gnb = naive_bayes.GaussianNB()\n",
    "modeloGNB = gnb.fit(X, y)"
   ]
  },
  {
   "cell_type": "markdown",
   "id": "78338267",
   "metadata": {},
   "source": [
    "Tenemos el conteo de clases"
   ]
  },
  {
   "cell_type": "code",
   "execution_count": null,
   "id": "ae2cb4aa",
   "metadata": {},
   "outputs": [],
   "source": [
    "modeloGNB.class_count_"
   ]
  },
  {
   "cell_type": "markdown",
   "id": "9df36412",
   "metadata": {},
   "source": [
    "Tenemos la probabilidad a priori de las clases"
   ]
  },
  {
   "cell_type": "code",
   "execution_count": null,
   "id": "e5578434",
   "metadata": {},
   "outputs": [],
   "source": [
    "modeloGNB.class_prior_"
   ]
  },
  {
   "cell_type": "markdown",
   "id": "f9d9d823",
   "metadata": {},
   "source": [
    "Tenemos la media"
   ]
  },
  {
   "cell_type": "code",
   "execution_count": null,
   "id": "eb883669",
   "metadata": {},
   "outputs": [],
   "source": [
    "modeloGNB.theta_"
   ]
  },
  {
   "cell_type": "markdown",
   "id": "44848b71",
   "metadata": {},
   "source": [
    "Tenemos la desviación estándar"
   ]
  },
  {
   "cell_type": "code",
   "execution_count": null,
   "id": "04055054",
   "metadata": {},
   "outputs": [],
   "source": [
    "modeloGNB.var_"
   ]
  },
  {
   "cell_type": "markdown",
   "id": "da5b8ca9",
   "metadata": {},
   "source": [
    "Realizamos la predicción"
   ]
  },
  {
   "cell_type": "code",
   "execution_count": null,
   "id": "c407173f",
   "metadata": {},
   "outputs": [],
   "source": [
    "y_pred = modeloGNB.predict(cancer.data)"
   ]
  },
  {
   "cell_type": "code",
   "execution_count": null,
   "id": "da77439a",
   "metadata": {},
   "outputs": [],
   "source": [
    "print(\"El modelo de Naïve Bayes se equivocó en %d de los %d registros que componen el dataset original\"\n",
    "      % ((y != y_pred).sum(), cancer.data.shape[0]))"
   ]
  }
 ],
 "metadata": {
  "kernelspec": {
   "display_name": "Python 3 (ipykernel)",
   "language": "python",
   "name": "python3"
  },
  "language_info": {
   "codemirror_mode": {
    "name": "ipython",
    "version": 3
   },
   "file_extension": ".py",
   "mimetype": "text/x-python",
   "name": "python",
   "nbconvert_exporter": "python",
   "pygments_lexer": "ipython3",
   "version": "3.10.9"
  }
 },
 "nbformat": 4,
 "nbformat_minor": 5
}
