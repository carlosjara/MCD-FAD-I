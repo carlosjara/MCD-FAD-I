{
 "cells": [
  {
   "cell_type": "markdown",
   "id": "c7fdadaa",
   "metadata": {},
   "source": [
    "## Ejemplo de Análisis Exploratorio de Datos en Python\n",
    "El dataset que vamos analizar contiene registros de pacientes con síntomas de problemas cardíacos. Se tienen los datos provenientes bases de datos de enfermedades del corazón, provenientes de diferentes centros médicos:\n",
    "\n",
    "- Cleveland Clinic Foundation\n",
    "- Hungarian Institute of Cardiology, Budapest\n",
    "- University Hospital, Zurich, & University Hospital, Basel, Switzerland\n",
    "\n",
    "Los campos del dataset son los siguientes:\n",
    "\n",
    "1. ciudad: ciudad del paciente (Cleveland, Hungria, Suiza)\n",
    "2. edad: en años\n",
    "3. sexo: \"1\"=hombre, \"0\"=mujer\n",
    "4. tipo_dolor: tipo de dolor de pecho (\"1\"=angina típico, \"2\"=angina atípico, \"3\"=dolor no de angina, \"4\"=sin síntoma de dolor)\n",
    "5. presion: presión de la sangre en reposo (en mm/Hg, en el momento de admisión al hospital)\n",
    "6. colesterol: en densidad del colesterol (en mg/dl)\n",
    "7. azucar: indica si el nivel de azucar en la sangre en ayunas es superior a 120 mg/dl (\"1\") o no (\"0\")\n",
    "8. ecg: resultado el electro cardiograma (\"0\"=normal, \"1\"=anormalidad del nivel de ST, \"2\"=hipertrofía ventricular probable)\n",
    "9. pulso: frecuencia cardiaca máxima alcanzada\n",
    "10. angina: si se induce a una angina a través del ejercicio (\"1\") o no (\"0\")\n",
    "11. st: diferencia relativa entre el nivel de ST inducido por el ejercicio comparado con el nivel del reposo.\n",
    "12. pendiente: la pendiente de llegada al máximo del nivel ST durante el ejercicio (\"1\"creciente, \"2\"=plana, \"3\"=decreciente)\n",
    "13. venas: número de venas coloreadas a partir de la fluorescopia (0 a 3)\n",
    "14. thal: tipo de defecto (valores aceptados 3=normal, 4=defecto arreglado, 7=defecto reversible)\n",
    "15. target: indica si en efecto el paciente presenta una enfermedad cardiaca (\"1\", \"2\", \"3\", \"4\") o no (\"0\")\n",
    "\n",
    "### Entendimiento de los datos, limpieza\n",
    "El archivo \"DatosCorazon.csv\" contiene el dataset que a analizar.\n",
    "\n",
    "Vamos a realizar un análisis exploratorio de los datos estableciendo el baseline, verificando la calidad de los datos (tipos de las variables, valores inválidos, excepciones, valores faltantes, etc.), utilizando gráficos para poder entender las distribuciones de los datos e identificar posibles problemas.\n",
    "\n"
   ]
  },
  {
   "cell_type": "markdown",
   "id": "ad4f2740",
   "metadata": {},
   "source": [
    "### 1 Carga y baselines pre-limpieza de datos"
   ]
  },
  {
   "cell_type": "code",
   "execution_count": 1,
   "id": "26a6c34f",
   "metadata": {},
   "outputs": [],
   "source": [
    "import pandas as pd #tratamiento de datos\n",
    "import numpy as np #operaciones matriciales y con vectores\n",
    "import matplotlib.pyplot as plt #gráficos\n",
    "import seaborn as sns\n",
    "\n",
    "import warnings\n",
    "warnings.filterwarnings('ignore')"
   ]
  },
  {
   "cell_type": "markdown",
   "id": "98f8b5ca",
   "metadata": {},
   "source": [
    "Cargamos los datos en memoria y visualizamos los datos iniciales y resumidos."
   ]
  },
  {
   "cell_type": "code",
   "execution_count": 2,
   "id": "783d1d1f",
   "metadata": {},
   "outputs": [
    {
     "data": {
      "text/html": [
       "<div>\n",
       "<style scoped>\n",
       "    .dataframe tbody tr th:only-of-type {\n",
       "        vertical-align: middle;\n",
       "    }\n",
       "\n",
       "    .dataframe tbody tr th {\n",
       "        vertical-align: top;\n",
       "    }\n",
       "\n",
       "    .dataframe thead th {\n",
       "        text-align: right;\n",
       "    }\n",
       "</style>\n",
       "<table border=\"1\" class=\"dataframe\">\n",
       "  <thead>\n",
       "    <tr style=\"text-align: right;\">\n",
       "      <th></th>\n",
       "      <th>0</th>\n",
       "      <th>1</th>\n",
       "      <th>2</th>\n",
       "      <th>3</th>\n",
       "      <th>4</th>\n",
       "      <th>5</th>\n",
       "      <th>6</th>\n",
       "      <th>7</th>\n",
       "      <th>8</th>\n",
       "      <th>9</th>\n",
       "      <th>10</th>\n",
       "      <th>11</th>\n",
       "      <th>12</th>\n",
       "      <th>13</th>\n",
       "      <th>14</th>\n",
       "    </tr>\n",
       "  </thead>\n",
       "  <tbody>\n",
       "    <tr>\n",
       "      <th>0</th>\n",
       "      <td>Cleveland</td>\n",
       "      <td>63.0</td>\n",
       "      <td>1</td>\n",
       "      <td>1</td>\n",
       "      <td>145.0</td>\n",
       "      <td>233.0</td>\n",
       "      <td>1</td>\n",
       "      <td>2</td>\n",
       "      <td>150.0</td>\n",
       "      <td>0</td>\n",
       "      <td>2.3</td>\n",
       "      <td>3</td>\n",
       "      <td>0</td>\n",
       "      <td>6</td>\n",
       "      <td>0</td>\n",
       "    </tr>\n",
       "    <tr>\n",
       "      <th>1</th>\n",
       "      <td>Cleveland</td>\n",
       "      <td>67.0</td>\n",
       "      <td>1</td>\n",
       "      <td>4</td>\n",
       "      <td>160.0</td>\n",
       "      <td>286.0</td>\n",
       "      <td>0</td>\n",
       "      <td>2</td>\n",
       "      <td>108.0</td>\n",
       "      <td>1</td>\n",
       "      <td>1.5</td>\n",
       "      <td>2</td>\n",
       "      <td>3</td>\n",
       "      <td>3</td>\n",
       "      <td>2</td>\n",
       "    </tr>\n",
       "    <tr>\n",
       "      <th>2</th>\n",
       "      <td>Cleveland</td>\n",
       "      <td>67.0</td>\n",
       "      <td>1</td>\n",
       "      <td>4</td>\n",
       "      <td>120.0</td>\n",
       "      <td>229.0</td>\n",
       "      <td>0</td>\n",
       "      <td>2</td>\n",
       "      <td>129.0</td>\n",
       "      <td>1</td>\n",
       "      <td>2.6</td>\n",
       "      <td>2</td>\n",
       "      <td>2</td>\n",
       "      <td>7</td>\n",
       "      <td>1</td>\n",
       "    </tr>\n",
       "    <tr>\n",
       "      <th>3</th>\n",
       "      <td>Cleveland</td>\n",
       "      <td>37.0</td>\n",
       "      <td>1</td>\n",
       "      <td>3</td>\n",
       "      <td>130.0</td>\n",
       "      <td>250.0</td>\n",
       "      <td>0</td>\n",
       "      <td>0</td>\n",
       "      <td>187.0</td>\n",
       "      <td>0</td>\n",
       "      <td>3.5</td>\n",
       "      <td>3</td>\n",
       "      <td>0</td>\n",
       "      <td>3</td>\n",
       "      <td>0</td>\n",
       "    </tr>\n",
       "    <tr>\n",
       "      <th>4</th>\n",
       "      <td>Cleveland</td>\n",
       "      <td>41.0</td>\n",
       "      <td>0</td>\n",
       "      <td>2</td>\n",
       "      <td>130.0</td>\n",
       "      <td>204.0</td>\n",
       "      <td>0</td>\n",
       "      <td>2</td>\n",
       "      <td>172.0</td>\n",
       "      <td>0</td>\n",
       "      <td>1.4</td>\n",
       "      <td>1</td>\n",
       "      <td>0</td>\n",
       "      <td>3</td>\n",
       "      <td>0</td>\n",
       "    </tr>\n",
       "  </tbody>\n",
       "</table>\n",
       "</div>"
      ],
      "text/plain": [
       "          0     1   2   3      4      5  6  7      8  9    10 11 12 13  14\n",
       "0  Cleveland  63.0   1   1  145.0  233.0  1  2  150.0  0  2.3  3  0  6   0\n",
       "1  Cleveland  67.0   1   4  160.0  286.0  0  2  108.0  1  1.5  2  3  3   2\n",
       "2  Cleveland  67.0   1   4  120.0  229.0  0  2  129.0  1  2.6  2  2  7   1\n",
       "3  Cleveland  37.0   1   3  130.0  250.0  0  0  187.0  0  3.5  3  0  3   0\n",
       "4  Cleveland  41.0   0   2  130.0  204.0  0  2  172.0  0  1.4  1  0  3   0"
      ]
     },
     "execution_count": 2,
     "metadata": {},
     "output_type": "execute_result"
    }
   ],
   "source": [
    "data = pd.read_csv('DatosCorazon.csv',sep=\";\",header=None)\n",
    "data.head()"
   ]
  },
  {
   "cell_type": "markdown",
   "id": "8d0348b9",
   "metadata": {},
   "source": [
    "Los campos no vienen con los encabezados, por lo que los especificamos directamente\n",
    "\n"
   ]
  },
  {
   "cell_type": "code",
   "execution_count": 3,
   "id": "456643ad",
   "metadata": {},
   "outputs": [
    {
     "data": {
      "text/html": [
       "<div>\n",
       "<style scoped>\n",
       "    .dataframe tbody tr th:only-of-type {\n",
       "        vertical-align: middle;\n",
       "    }\n",
       "\n",
       "    .dataframe tbody tr th {\n",
       "        vertical-align: top;\n",
       "    }\n",
       "\n",
       "    .dataframe thead th {\n",
       "        text-align: right;\n",
       "    }\n",
       "</style>\n",
       "<table border=\"1\" class=\"dataframe\">\n",
       "  <thead>\n",
       "    <tr style=\"text-align: right;\">\n",
       "      <th></th>\n",
       "      <th>ciudad</th>\n",
       "      <th>edad</th>\n",
       "      <th>sexo</th>\n",
       "      <th>tipo_dolor</th>\n",
       "      <th>presion</th>\n",
       "      <th>colesterol</th>\n",
       "      <th>azucar</th>\n",
       "      <th>ecg</th>\n",
       "      <th>pulso</th>\n",
       "      <th>angina</th>\n",
       "      <th>st</th>\n",
       "      <th>pendiente</th>\n",
       "      <th>venas</th>\n",
       "      <th>thal</th>\n",
       "      <th>target</th>\n",
       "    </tr>\n",
       "  </thead>\n",
       "  <tbody>\n",
       "    <tr>\n",
       "      <th>0</th>\n",
       "      <td>Cleveland</td>\n",
       "      <td>63.0</td>\n",
       "      <td>1</td>\n",
       "      <td>1</td>\n",
       "      <td>145.0</td>\n",
       "      <td>233.0</td>\n",
       "      <td>1</td>\n",
       "      <td>2</td>\n",
       "      <td>150.0</td>\n",
       "      <td>0</td>\n",
       "      <td>2.3</td>\n",
       "      <td>3</td>\n",
       "      <td>0</td>\n",
       "      <td>6</td>\n",
       "      <td>0</td>\n",
       "    </tr>\n",
       "    <tr>\n",
       "      <th>1</th>\n",
       "      <td>Cleveland</td>\n",
       "      <td>67.0</td>\n",
       "      <td>1</td>\n",
       "      <td>4</td>\n",
       "      <td>160.0</td>\n",
       "      <td>286.0</td>\n",
       "      <td>0</td>\n",
       "      <td>2</td>\n",
       "      <td>108.0</td>\n",
       "      <td>1</td>\n",
       "      <td>1.5</td>\n",
       "      <td>2</td>\n",
       "      <td>3</td>\n",
       "      <td>3</td>\n",
       "      <td>2</td>\n",
       "    </tr>\n",
       "    <tr>\n",
       "      <th>2</th>\n",
       "      <td>Cleveland</td>\n",
       "      <td>67.0</td>\n",
       "      <td>1</td>\n",
       "      <td>4</td>\n",
       "      <td>120.0</td>\n",
       "      <td>229.0</td>\n",
       "      <td>0</td>\n",
       "      <td>2</td>\n",
       "      <td>129.0</td>\n",
       "      <td>1</td>\n",
       "      <td>2.6</td>\n",
       "      <td>2</td>\n",
       "      <td>2</td>\n",
       "      <td>7</td>\n",
       "      <td>1</td>\n",
       "    </tr>\n",
       "    <tr>\n",
       "      <th>3</th>\n",
       "      <td>Cleveland</td>\n",
       "      <td>37.0</td>\n",
       "      <td>1</td>\n",
       "      <td>3</td>\n",
       "      <td>130.0</td>\n",
       "      <td>250.0</td>\n",
       "      <td>0</td>\n",
       "      <td>0</td>\n",
       "      <td>187.0</td>\n",
       "      <td>0</td>\n",
       "      <td>3.5</td>\n",
       "      <td>3</td>\n",
       "      <td>0</td>\n",
       "      <td>3</td>\n",
       "      <td>0</td>\n",
       "    </tr>\n",
       "    <tr>\n",
       "      <th>4</th>\n",
       "      <td>Cleveland</td>\n",
       "      <td>41.0</td>\n",
       "      <td>0</td>\n",
       "      <td>2</td>\n",
       "      <td>130.0</td>\n",
       "      <td>204.0</td>\n",
       "      <td>0</td>\n",
       "      <td>2</td>\n",
       "      <td>172.0</td>\n",
       "      <td>0</td>\n",
       "      <td>1.4</td>\n",
       "      <td>1</td>\n",
       "      <td>0</td>\n",
       "      <td>3</td>\n",
       "      <td>0</td>\n",
       "    </tr>\n",
       "  </tbody>\n",
       "</table>\n",
       "</div>"
      ],
      "text/plain": [
       "      ciudad  edad  sexo  tipo_dolor presion colesterol azucar ecg  pulso  \\\n",
       "0  Cleveland  63.0     1           1   145.0      233.0      1   2  150.0   \n",
       "1  Cleveland  67.0     1           4   160.0      286.0      0   2  108.0   \n",
       "2  Cleveland  67.0     1           4   120.0      229.0      0   2  129.0   \n",
       "3  Cleveland  37.0     1           3   130.0      250.0      0   0  187.0   \n",
       "4  Cleveland  41.0     0           2   130.0      204.0      0   2  172.0   \n",
       "\n",
       "  angina   st pendiente venas thal  target  \n",
       "0      0  2.3         3     0    6       0  \n",
       "1      1  1.5         2     3    3       2  \n",
       "2      1  2.6         2     2    7       1  \n",
       "3      0  3.5         3     0    3       0  \n",
       "4      0  1.4         1     0    3       0  "
      ]
     },
     "execution_count": 3,
     "metadata": {},
     "output_type": "execute_result"
    }
   ],
   "source": [
    "colnames = [\"ciudad\", \"edad\", \"sexo\", \"tipo_dolor\", \"presion\", \"colesterol\", \"azucar\", \"ecg\", \"pulso\", \"angina\", \n",
    "         \"st\", \"pendiente\", \"venas\", \"thal\", \"target\"]\n",
    "data.columns=colnames\n",
    "data.head()"
   ]
  },
  {
   "cell_type": "markdown",
   "id": "a95f5618",
   "metadata": {},
   "source": [
    "Observamos la distribución de categorías de la variable objetivo. Utilizamos un countplot."
   ]
  },
  {
   "cell_type": "code",
   "execution_count": 4,
   "id": "a8269283",
   "metadata": {},
   "outputs": [
    {
     "data": {
      "text/plain": [
       "<Axes: xlabel='target', ylabel='count'>"
      ]
     },
     "execution_count": 4,
     "metadata": {},
     "output_type": "execute_result"
    },
    {
     "data": {
      "image/png": "[encoded data removed]",
      "text/plain": [
       "<Figure size 800x800 with 1 Axes>"
      ]
     },
     "metadata": {},
     "output_type": "display_data"
    }
   ],
   "source": [
    "plt.figure(figsize=(8,8))\n",
    "sns.countplot(x=\"target\", data=data)\n"
   ]
  },
  {
   "cell_type": "markdown",
   "id": "92cdc1b2",
   "metadata": {},
   "source": [
    "Vemos cantidad de observaciones por categoría de la variable objetivo haciendo uso de un cross tabulation."
   ]
  },
  {
   "cell_type": "code",
   "execution_count": 5,
   "id": "08642fb9",
   "metadata": {},
   "outputs": [
    {
     "data": {
      "text/html": [
       "<div>\n",
       "<style scoped>\n",
       "    .dataframe tbody tr th:only-of-type {\n",
       "        vertical-align: middle;\n",
       "    }\n",
       "\n",
       "    .dataframe tbody tr th {\n",
       "        vertical-align: top;\n",
       "    }\n",
       "\n",
       "    .dataframe thead th {\n",
       "        text-align: right;\n",
       "    }\n",
       "</style>\n",
       "<table border=\"1\" class=\"dataframe\">\n",
       "  <thead>\n",
       "    <tr style=\"text-align: right;\">\n",
       "      <th>col_0</th>\n",
       "      <th>count</th>\n",
       "    </tr>\n",
       "    <tr>\n",
       "      <th>target</th>\n",
       "      <th></th>\n",
       "    </tr>\n",
       "  </thead>\n",
       "  <tbody>\n",
       "    <tr>\n",
       "      <th>0</th>\n",
       "      <td>360</td>\n",
       "    </tr>\n",
       "    <tr>\n",
       "      <th>1</th>\n",
       "      <td>209</td>\n",
       "    </tr>\n",
       "    <tr>\n",
       "      <th>2</th>\n",
       "      <td>68</td>\n",
       "    </tr>\n",
       "    <tr>\n",
       "      <th>3</th>\n",
       "      <td>65</td>\n",
       "    </tr>\n",
       "    <tr>\n",
       "      <th>4</th>\n",
       "      <td>18</td>\n",
       "    </tr>\n",
       "  </tbody>\n",
       "</table>\n",
       "</div>"
      ],
      "text/plain": [
       "col_0   count\n",
       "target       \n",
       "0         360\n",
       "1         209\n",
       "2          68\n",
       "3          65\n",
       "4          18"
      ]
     },
     "execution_count": 5,
     "metadata": {},
     "output_type": "execute_result"
    }
   ],
   "source": [
    "pd.crosstab(index=data[\"target\"], columns=\"count\")\n"
   ]
  },
  {
   "cell_type": "markdown",
   "id": "ce363563",
   "metadata": {},
   "source": [
    "Vamos a arreglar la variable objetivo. Para ello primero establecemos los 2 valores posibles. Modificamos reemplazando los 4 valores que se considerarán como positivos. Vamos a convertir todas aquellas observaciones con variable objetivo positiva como 1 (de todas las filas que tienen asignadas un valor mayor de cero para la variable objetivo, le asignamos al target el valor de 1)."
   ]
  },
  {
   "cell_type": "code",
   "execution_count": 7,
   "id": "52cd65a7",
   "metadata": {},
   "outputs": [],
   "source": [
    "data.loc[(data.target > 0), \"target\"] = 1"
   ]
  },
  {
   "cell_type": "markdown",
   "id": "62f0883a",
   "metadata": {},
   "source": [
    "### Baseline global\n",
    "Revisamos de nuevo, a partir del cambio, la distribución de las dos categorías de la variable objetivo."
   ]
  },
  {
   "cell_type": "code",
   "execution_count": 8,
   "id": "3425f8f8",
   "metadata": {},
   "outputs": [
    {
     "data": {
      "text/plain": [
       "<Axes: xlabel='target', ylabel='count'>"
      ]
     },
     "execution_count": 8,
     "metadata": {},
     "output_type": "execute_result"
    },
    {
     "data": {
      "image/png": "[encoded data removed]",
      "text/plain": [
       "<Figure size 800x800 with 1 Axes>"
      ]
     },
     "metadata": {},
     "output_type": "display_data"
    }
   ],
   "source": [
    "\n",
    "plt.figure(figsize=(8,8))\n",
    "sns.countplot(x='target',data=data)\n"
   ]
  },
  {
   "cell_type": "markdown",
   "id": "3d5927c5",
   "metadata": {},
   "source": [
    "Revisamos los tipos de las variables (independientes y dependiente)"
   ]
  },
  {
   "cell_type": "code",
   "execution_count": 9,
   "id": "b3b6ebde",
   "metadata": {},
   "outputs": [
    {
     "name": "stdout",
     "output_type": "stream",
     "text": [
      "<class 'pandas.core.frame.DataFrame'>\n",
      "RangeIndex: 720 entries, 0 to 719\n",
      "Data columns (total 15 columns):\n",
      " #   Column      Non-Null Count  Dtype  \n",
      "---  ------      --------------  -----  \n",
      " 0   ciudad      720 non-null    object \n",
      " 1   edad        720 non-null    float64\n",
      " 2   sexo        720 non-null    int64  \n",
      " 3   tipo_dolor  720 non-null    int64  \n",
      " 4   presion     720 non-null    object \n",
      " 5   colesterol  720 non-null    object \n",
      " 6   azucar      720 non-null    object \n",
      " 7   ecg         720 non-null    object \n",
      " 8   pulso       720 non-null    object \n",
      " 9   angina      720 non-null    object \n",
      " 10  st          720 non-null    object \n",
      " 11  pendiente   720 non-null    object \n",
      " 12  venas       720 non-null    object \n",
      " 13  thal        720 non-null    object \n",
      " 14  target      720 non-null    int64  \n",
      "dtypes: float64(1), int64(3), object(11)\n",
      "memory usage: 84.5+ KB\n"
     ]
    }
   ],
   "source": [
    "data.info()\n"
   ]
  },
  {
   "cell_type": "markdown",
   "id": "36ad7427",
   "metadata": {},
   "source": [
    "La variable objetivo debería ser categórica, por tal razón hacemos la conversión"
   ]
  },
  {
   "cell_type": "code",
   "execution_count": 10,
   "id": "20bdf30b",
   "metadata": {},
   "outputs": [],
   "source": [
    "data.target = data.target.astype(str)"
   ]
  },
  {
   "cell_type": "markdown",
   "id": "02e7926b",
   "metadata": {},
   "source": [
    "Revisamos la catidad de positivos y negativos de la variable objetivo\n",
    "\n"
   ]
  },
  {
   "cell_type": "code",
   "execution_count": 11,
   "id": "c8b93eaf",
   "metadata": {},
   "outputs": [
    {
     "data": {
      "text/html": [
       "<div>\n",
       "<style scoped>\n",
       "    .dataframe tbody tr th:only-of-type {\n",
       "        vertical-align: middle;\n",
       "    }\n",
       "\n",
       "    .dataframe tbody tr th {\n",
       "        vertical-align: top;\n",
       "    }\n",
       "\n",
       "    .dataframe thead th {\n",
       "        text-align: right;\n",
       "    }\n",
       "</style>\n",
       "<table border=\"1\" class=\"dataframe\">\n",
       "  <thead>\n",
       "    <tr style=\"text-align: right;\">\n",
       "      <th>col_0</th>\n",
       "      <th>count</th>\n",
       "    </tr>\n",
       "    <tr>\n",
       "      <th>target</th>\n",
       "      <th></th>\n",
       "    </tr>\n",
       "  </thead>\n",
       "  <tbody>\n",
       "    <tr>\n",
       "      <th>0</th>\n",
       "      <td>360</td>\n",
       "    </tr>\n",
       "    <tr>\n",
       "      <th>1</th>\n",
       "      <td>360</td>\n",
       "    </tr>\n",
       "  </tbody>\n",
       "</table>\n",
       "</div>"
      ],
      "text/plain": [
       "col_0   count\n",
       "target       \n",
       "0         360\n",
       "1         360"
      ]
     },
     "execution_count": 11,
     "metadata": {},
     "output_type": "execute_result"
    }
   ],
   "source": [
    "pd.crosstab(index=data[\"target\"], columns=\"count\")"
   ]
  },
  {
   "cell_type": "markdown",
   "id": "b2fe5575",
   "metadata": {},
   "source": [
    "Vemos la cantidad de registros y variables presentes en el dataframe"
   ]
  },
  {
   "cell_type": "code",
   "execution_count": 12,
   "id": "8701aa15",
   "metadata": {},
   "outputs": [
    {
     "data": {
      "text/plain": [
       "(720, 15)"
      ]
     },
     "execution_count": 12,
     "metadata": {},
     "output_type": "execute_result"
    }
   ],
   "source": [
    "data.shape"
   ]
  },
  {
   "cell_type": "markdown",
   "id": "695a5c34",
   "metadata": {},
   "source": [
    "### Baseline\n",
    "Calculamos el baseline (la clase mayoritaria). Como hay la misma cantidad de positivos que negativos simplemente escogemos cualquiera de las dos categorías, contamos cuántos registros de ellas hay, dividimos por el total de filas y multiplicamos por 100 para que nos quede el porcentaje de la clase mayoritaria.\n",
    "\n"
   ]
  },
  {
   "cell_type": "code",
   "execution_count": 13,
   "id": "6d838487",
   "metadata": {},
   "outputs": [
    {
     "data": {
      "text/plain": [
       "50.0"
      ]
     },
     "execution_count": 13,
     "metadata": {},
     "output_type": "execute_result"
    }
   ],
   "source": [
    "data['target'][data['target'] == '0'].count()/data.shape[0]*100\n"
   ]
  },
  {
   "cell_type": "markdown",
   "id": "c3505849",
   "metadata": {},
   "source": [
    "Observamos que el baseline global es de 50%, con las dos clases igualmente representadas en perfecto balance."
   ]
  },
  {
   "cell_type": "markdown",
   "id": "d7453359",
   "metadata": {},
   "source": [
    "### Baseline por ciudad\n"
   ]
  },
  {
   "cell_type": "code",
   "execution_count": 14,
   "id": "374020e3",
   "metadata": {
    "scrolled": false
   },
   "outputs": [
    {
     "data": {
      "text/plain": [
       "<Axes: xlabel='ciudad', ylabel='count'>"
      ]
     },
     "execution_count": 14,
     "metadata": {},
     "output_type": "execute_result"
    },
    {
     "data": {
      "image/png": "[encoded data removed]",
      "text/plain": [
       "<Figure size 800x800 with 1 Axes>"
      ]
     },
     "metadata": {},
     "output_type": "display_data"
    }
   ],
   "source": [
    "plt.figure(figsize=(8,8))\n",
    "sns.countplot(x='ciudad',data=data)"
   ]
  },
  {
   "cell_type": "code",
   "execution_count": 16,
   "id": "589be07d",
   "metadata": {
    "scrolled": true
   },
   "outputs": [
    {
     "data": {
      "text/html": [
       "<div>\n",
       "<style scoped>\n",
       "    .dataframe tbody tr th:only-of-type {\n",
       "        vertical-align: middle;\n",
       "    }\n",
       "\n",
       "    .dataframe tbody tr th {\n",
       "        vertical-align: top;\n",
       "    }\n",
       "\n",
       "    .dataframe thead th {\n",
       "        text-align: right;\n",
       "    }\n",
       "</style>\n",
       "<table border=\"1\" class=\"dataframe\">\n",
       "  <thead>\n",
       "    <tr style=\"text-align: right;\">\n",
       "      <th>col_0</th>\n",
       "      <th>count</th>\n",
       "    </tr>\n",
       "    <tr>\n",
       "      <th>ciudad</th>\n",
       "      <th></th>\n",
       "    </tr>\n",
       "  </thead>\n",
       "  <tbody>\n",
       "    <tr>\n",
       "      <th>Cleveland</th>\n",
       "      <td>303</td>\n",
       "    </tr>\n",
       "    <tr>\n",
       "      <th>Hungria</th>\n",
       "      <td>294</td>\n",
       "    </tr>\n",
       "    <tr>\n",
       "      <th>Suiza</th>\n",
       "      <td>123</td>\n",
       "    </tr>\n",
       "  </tbody>\n",
       "</table>\n",
       "</div>"
      ],
      "text/plain": [
       "col_0      count\n",
       "ciudad          \n",
       "Cleveland    303\n",
       "Hungria      294\n",
       "Suiza        123"
      ]
     },
     "execution_count": 16,
     "metadata": {},
     "output_type": "execute_result"
    }
   ],
   "source": [
    "pd.crosstab(index=data['ciudad'],columns='count')\n"
   ]
  },
  {
   "cell_type": "code",
   "execution_count": 19,
   "id": "19a7a165",
   "metadata": {},
   "outputs": [
    {
     "data": {
      "image/png": "[encoded data removed]",
      "text/plain": [
       "<Figure size 800x800 with 1 Axes>"
      ]
     },
     "metadata": {},
     "output_type": "display_data"
    }
   ],
   "source": [
    "plt.figure(figsize=(8, 8))\n",
    "sns.countplot(x='ciudad', data=data)\n",
    "\n",
    "# Agregar etiquetas con las cantidades sobre las barras\n",
    "for index, value in enumerate(data['ciudad'].value_counts()):\n",
    "    plt.text(index, value + 1, str(value), ha='center', va='bottom')\n",
    "\n",
    "plt.show()"
   ]
  },
  {
   "cell_type": "markdown",
   "id": "357e416d",
   "metadata": {},
   "source": [
    "Vemos que la mayoría de los datos son de Cleveland\n",
    "\n",
    "Vamos a dividir el dataset en tres nuevos dataframe (cada uno de estos tres podría tener características distintas, que tal vez haga que nuestro modelo futuro no pueda obtener tan buenos resultados si es tan general)\n",
    "\n"
   ]
  },
  {
   "cell_type": "code",
   "execution_count": 20,
   "id": "79d06b4e",
   "metadata": {},
   "outputs": [],
   "source": [
    "dataCleveland=data[data.ciudad==\"Cleveland\"]\n",
    "dataHungria=data[data.ciudad==\"Hungria\"]\n",
    "dataSuiza=data[data.ciudad==\"Suiza\"]"
   ]
  },
  {
   "cell_type": "markdown",
   "id": "d4e02654",
   "metadata": {},
   "source": [
    "### Baseline Cleveland"
   ]
  },
  {
   "cell_type": "code",
   "execution_count": 21,
   "id": "c29a738d",
   "metadata": {},
   "outputs": [
    {
     "data": {
      "text/plain": [
       "<Axes: xlabel='target', ylabel='count'>"
      ]
     },
     "execution_count": 21,
     "metadata": {},
     "output_type": "execute_result"
    },
    {
     "data": {
      "image/png": "[encoded data removed]",
      "text/plain": [
       "<Figure size 800x800 with 1 Axes>"
      ]
     },
     "metadata": {},
     "output_type": "display_data"
    }
   ],
   "source": [
    "plt.figure(figsize=(8,8))\n",
    "sns.countplot(x='target',data=dataCleveland)"
   ]
  },
  {
   "cell_type": "code",
   "execution_count": 22,
   "id": "52bc99ef",
   "metadata": {},
   "outputs": [
    {
     "data": {
      "text/plain": [
       "54.12541254125413"
      ]
     },
     "execution_count": 22,
     "metadata": {},
     "output_type": "execute_result"
    }
   ],
   "source": [
    "dataCleveland['target'][dataCleveland['target'] == '0'].count()/dataCleveland.shape[0]*100\n"
   ]
  },
  {
   "cell_type": "markdown",
   "id": "1c688439",
   "metadata": {},
   "source": [
    "Podemos observar que el 54% de las personas que viven en Cleveland no tienen problemas del corazón"
   ]
  },
  {
   "cell_type": "markdown",
   "id": "382c307e",
   "metadata": {},
   "source": [
    "### Baseline Suiza\n"
   ]
  },
  {
   "cell_type": "code",
   "execution_count": 24,
   "id": "07fb699d",
   "metadata": {},
   "outputs": [
    {
     "data": {
      "text/plain": [
       "<Axes: xlabel='target', ylabel='count'>"
      ]
     },
     "execution_count": 24,
     "metadata": {},
     "output_type": "execute_result"
    },
    {
     "data": {
      "image/png": "[encoded data removed]",
      "text/plain": [
       "<Figure size 800x800 with 1 Axes>"
      ]
     },
     "metadata": {},
     "output_type": "display_data"
    }
   ],
   "source": [
    "plt.figure(figsize=(8,8))\n",
    "sns.countplot(x='target',data=dataSuiza)"
   ]
  },
  {
   "cell_type": "code",
   "execution_count": 25,
   "id": "8864c6f3",
   "metadata": {},
   "outputs": [
    {
     "data": {
      "text/plain": [
       "93.4959349593496"
      ]
     },
     "execution_count": 25,
     "metadata": {},
     "output_type": "execute_result"
    }
   ],
   "source": [
    "dataSuiza[dataSuiza['target'] == '1']['target'].count()/dataSuiza.shape[0]*100\n"
   ]
  },
  {
   "cell_type": "markdown",
   "id": "8f15e00f",
   "metadata": {},
   "source": [
    "El baseline de Suiza es que la gente tiene problemas cardíacos en un 93.5%\n",
    "\n"
   ]
  },
  {
   "cell_type": "markdown",
   "id": "081d2156",
   "metadata": {},
   "source": [
    "### Baseline Hungría\n"
   ]
  },
  {
   "cell_type": "code",
   "execution_count": 26,
   "id": "98826c78",
   "metadata": {
    "scrolled": true
   },
   "outputs": [
    {
     "data": {
      "text/plain": [
       "<Axes: xlabel='target', ylabel='count'>"
      ]
     },
     "execution_count": 26,
     "metadata": {},
     "output_type": "execute_result"
    },
    {
     "data": {
      "image/png": "[encoded data removed]",
      "text/plain": [
       "<Figure size 800x800 with 1 Axes>"
      ]
     },
     "metadata": {},
     "output_type": "display_data"
    }
   ],
   "source": [
    "plt.figure(figsize=(8,8))\n",
    "sns.countplot(x='target',data=dataHungria)"
   ]
  },
  {
   "cell_type": "code",
   "execution_count": 31,
   "id": "15dc7fe4",
   "metadata": {},
   "outputs": [
    {
     "data": {
      "text/plain": [
       "294"
      ]
     },
     "execution_count": 31,
     "metadata": {},
     "output_type": "execute_result"
    }
   ],
   "source": [
    "dataHungria.shape[0]"
   ]
  },
  {
   "cell_type": "code",
   "execution_count": 33,
   "id": "f246fa38",
   "metadata": {},
   "outputs": [
    {
     "data": {
      "text/plain": [
       "0.6394557823129252"
      ]
     },
     "execution_count": 33,
     "metadata": {},
     "output_type": "execute_result"
    }
   ],
   "source": [
    "dataHungria[dataHungria['target']=='0']['target'].count()/dataHungria.shape[0]"
   ]
  },
  {
   "cell_type": "markdown",
   "id": "2f28b26e",
   "metadata": {},
   "source": [
    "El Baseline para Hungría es que la gente no tienen problemas cardíacos en un 63.95%"
   ]
  },
  {
   "cell_type": "markdown",
   "id": "1f836ef2",
   "metadata": {},
   "source": [
    "Los datasets son bastante diferentes y de pronto no sería bueno utilizarlos conjuntamente. No resulta proudente para diagnosticar un paciente de Cleveland utilizar un modelo aprendido con los tres conjuntos de datos, pues sus niveles de desbalanceo son muy diferentes. La clase positiva tiene una proporción de 46% para Cleveland, 93% para Suiza y de 36% para Hungría."
   ]
  },
  {
   "cell_type": "code",
   "execution_count": 54,
   "id": "5e666e33",
   "metadata": {},
   "outputs": [
    {
     "data": {
      "image/png": "[encoded data removed]",
      "text/plain": [
       "<Figure size 1500x1000 with 6 Axes>"
      ]
     },
     "metadata": {},
     "output_type": "display_data"
    }
   ],
   "source": [
    "import matplotlib.pyplot as plt\n",
    "import seaborn as sns\n",
    "\n",
    "# Supongamos que ya tienes tus DataFrames: dataCleveland, dataSuiza, dataHungria, y data\n",
    "\n",
    "# Crear subgráficos 2x3\n",
    "fig, axes = plt.subplots(2, 3, figsize=(15, 10))\n",
    "\n",
    "# Baseline global\n",
    "sns.countplot(x='target', data=data, ax=axes[0, 1])\n",
    "axes[0, 1].set_title('Baseline Global')\n",
    "\n",
    "for index, value in enumerate(data['target'].value_counts()):\n",
    "    axes[0, 1].text(index, value + 1, str(value), ha='center', va='bottom')\n",
    "\n",
    "# Baseline Suiza\n",
    "sns.countplot(x='target', data=dataSuiza, ax=axes[1, 0])\n",
    "axes[1, 0].set_title('Baseline Suiza')\n",
    "\n",
    "for index, value in enumerate(dataSuiza['target'].value_counts()):\n",
    "    axes[1, 0].text(index, value + 1, str(value), ha='center', va='bottom')\n",
    "\n",
    "# Baseline Hungría\n",
    "sns.countplot(x='target', data=dataHungria, ax=axes[1, 1])\n",
    "axes[1, 1].set_title('Baseline Hungría')\n",
    "#axes[1, 1].text(0, dataHungria[dataHungria['target'] == '0']['target'].count(),\n",
    "#               f\"{dataHungria[dataHungria['target'] == '0']['target'].count() / dataHungria.shape[0] * 100:.2f}% no problemas cardíacos\",\n",
    "#               ha='center', va='bottom')\n",
    "\n",
    "for index, value in enumerate(dataHungria['target'].value_counts()):\n",
    "    axes[1, 1].text(index, value + 1, str(value), ha='center', va='bottom')\n",
    "\n",
    "\n",
    "# Baseline Cleveland\n",
    "sns.countplot(x='target', data=dataCleveland, ax=axes[1, 2])\n",
    "axes[1, 2].set_title('Baseline Cleveland en la Mitad')\n",
    "\n",
    "for index, value in enumerate(dataCleveland['target'].value_counts()):\n",
    "    axes[1, 2].text(index, value + 1, str(value))\n",
    "\n",
    "\n",
    "# Ajustes de diseño global\n",
    "plt.tight_layout()\n",
    "plt.show()\n"
   ]
  },
  {
   "cell_type": "code",
   "execution_count": null,
   "id": "b2aed3d1",
   "metadata": {},
   "outputs": [],
   "source": []
  }
 ],
 "metadata": {
  "kernelspec": {
   "display_name": "Python 3 (ipykernel)",
   "language": "python",
   "name": "python3"
  },
  "language_info": {
   "codemirror_mode": {
    "name": "ipython",
    "version": 3
   },
   "file_extension": ".py",
   "mimetype": "text/x-python",
   "name": "python",
   "nbconvert_exporter": "python",
   "pygments_lexer": "ipython3",
   "version": "3.10.9"
  }
 },
 "nbformat": 4,
 "nbformat_minor": 5
}
